{
  "nbformat": 4,
  "nbformat_minor": 0,
  "metadata": {
    "colab": {
      "provenance": []
    },
    "kernelspec": {
      "name": "python3",
      "display_name": "Python 3"
    },
    "language_info": {
      "name": "python"
    }
  },
  "cells": [
    {
      "cell_type": "code",
      "source": [
        "import pandas as pd\n",
        "from sklearn.model_selection import train_test_split\n",
        "from sklearn.preprocessing import StandardScaler, OneHotEncoder\n",
        "from sklearn.compose import ColumnTransformer\n",
        "from sklearn.pipeline import Pipeline\n",
        "from sklearn.ensemble import RandomForestClassifier\n",
        "from sklearn.metrics import accuracy_score, classification_report\n",
        "\n",
        "\n",
        "df = pd.read_csv('crime_dataset_india.csv')\n",
        "\n",
        "df = df.dropna(subset=[\n",
        "    'Victim Age', 'Victim Gender', 'Weapon Used',\n",
        "    'Crime Domain', 'Case Closed', 'Time of Occurrence'\n",
        "])\n",
        "\n",
        "\n",
        "df['Hour'] = pd.to_datetime(df['Time of Occurrence'], errors='coerce').dt.hour\n",
        "df = df.dropna(subset=['Hour'])\n",
        "\n",
        "df['CaseClosedBinary'] = df['Case Closed'].str.strip().map({'Yes': 1, 'No': 0})\n",
        "\n",
        "numeric_feats     = ['Victim Age', 'Hour']\n",
        "categorical_feats = ['Victim Gender', 'Weapon Used', 'Crime Domain']\n",
        "\n",
        "X = df[numeric_feats + categorical_feats]\n",
        "y = df['CaseClosedBinary']\n",
        "\n",
        "X_train, X_test, y_train, y_test = train_test_split(\n",
        "    X, y, test_size=0.2, random_state=42, stratify=y\n",
        ")\n",
        "\n",
        "preprocessor = ColumnTransformer([\n",
        "    ('num', StandardScaler(), numeric_feats),\n",
        "    ('cat', OneHotEncoder(handle_unknown='ignore'), categorical_feats)\n",
        "])\n",
        "\n",
        "pipeline = Pipeline([\n",
        "    ('prep', preprocessor),\n",
        "    ('clf', RandomForestClassifier(\n",
        "        n_estimators=100, random_state=42, n_jobs=-1\n",
        "    ))\n",
        "])\n",
        "\n",
        "pipeline.fit(X_train, y_train)\n",
        "\n",
        "y_pred = pipeline.predict(X_test)\n",
        "print(\"Accuracy: \", accuracy_score(y_test, y_pred))\n",
        "print(\"\\nClassification Report:\\n\", classification_report(y_test, y_pred))"
      ],
      "metadata": {
        "colab": {
          "base_uri": "https://localhost:8080/"
        },
        "id": "E4QH9a5yBf00",
        "outputId": "57198532-5341-4115-8547-1754f863c413"
      },
      "execution_count": 5,
      "outputs": [
        {
          "output_type": "stream",
          "name": "stderr",
          "text": [
            "<ipython-input-5-00a143f6642e>:23: SettingWithCopyWarning: \n",
            "A value is trying to be set on a copy of a slice from a DataFrame.\n",
            "Try using .loc[row_indexer,col_indexer] = value instead\n",
            "\n",
            "See the caveats in the documentation: https://pandas.pydata.org/pandas-docs/stable/user_guide/indexing.html#returning-a-view-versus-a-copy\n",
            "  df['CaseClosedBinary'] = df['Case Closed'].str.strip().map({'Yes': 1, 'No': 0})\n"
          ]
        },
        {
          "output_type": "stream",
          "name": "stdout",
          "text": [
            "Accuracy:  0.5075673680324843\n",
            "\n",
            "Classification Report:\n",
            "               precision    recall  f1-score   support\n",
            "\n",
            "           0       0.51      0.51      0.51      1367\n",
            "           1       0.50      0.51      0.51      1342\n",
            "\n",
            "    accuracy                           0.51      2709\n",
            "   macro avg       0.51      0.51      0.51      2709\n",
            "weighted avg       0.51      0.51      0.51      2709\n",
            "\n"
          ]
        }
      ]
    }
  ]
}